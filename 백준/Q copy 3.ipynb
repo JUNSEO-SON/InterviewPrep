{
 "cells": [
  {
   "cell_type": "code",
   "execution_count": null,
   "id": "729df1f0",
   "metadata": {},
   "outputs": [],
   "source": [
    "from PIL import Image\n",
    "img=Image.open(r)\n",
    "img"
   ]
  },
  {
   "cell_type": "code",
   "execution_count": null,
   "id": "986955b8",
   "metadata": {},
   "outputs": [],
   "source": [
    "import sys\n",
    "\n",
    "#input = sys.stdin.readline"
   ]
  },
  {
   "cell_type": "markdown",
   "id": "2f3ee772",
   "metadata": {},
   "source": []
  }
 ],
 "metadata": {
  "language_info": {
   "name": "python"
  }
 },
 "nbformat": 4,
 "nbformat_minor": 5
}
