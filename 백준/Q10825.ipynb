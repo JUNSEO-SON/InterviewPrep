{
 "cells": [
  {
   "cell_type": "code",
   "execution_count": null,
   "id": "d17cadca",
   "metadata": {},
   "outputs": [],
   "source": [
    "from PIL import Image\n",
    "img=Image.open(r)\n",
    "img"
   ]
  },
  {
   "cell_type": "code",
   "execution_count": null,
   "id": "7ac8465c",
   "metadata": {},
   "outputs": [
    {
     "name": "stdout",
     "output_type": "stream",
     "text": [
      "Donghyuk\n",
      "Sangkeun\n",
      "Sunyoung\n",
      "nsj\n",
      "Wonseob\n",
      "Sanghyun\n",
      "Sei\n",
      "Kangsoo\n",
      "Junkyu\n",
      "Haebin\n",
      "Soong\n",
      "Taewhan\n"
     ]
    }
   ],
   "source": [
    "import sys\n",
    "\n",
    "input=sys.stdin.readline\n",
    "\n",
    "student_dict={}\n",
    "\n",
    "for _ in range(int(input())):\n",
    "    name,kor,eng,mat=input().split()\n",
    "    student_dict[name]=(int(kor),int(eng),int(mat))\n",
    "\n",
    "sorted_dict=dict(sorted(student_dict.items(), key = lambda x :(-x[1][0],x[1][1],-x[1][2],x[0])))    \n",
    "\n",
    "for key, _ in sorted_dict.items():\n",
    "    print(key)"
   ]
  },
  {
   "cell_type": "code",
   "execution_count": null,
   "id": "5c2fb87e",
   "metadata": {},
   "outputs": [
    {
     "name": "stdout",
     "output_type": "stream",
     "text": [
      "['c', '.', 'u', 's', 'e', 'r', '.', 'm', 'i', 'k', 'e', '.', 'p', 'r', 'o', 'g', 'r', 'a', 'm', 's']\n",
      "c.user.?i?e.programs\n"
     ]
    }
   ],
   "source": [
    "for i in range(int((input()))):\n",
    "    if i==0:\n",
    "        answer_word= list(input())\n",
    "    else:\n",
    "        temp=input()\n",
    "        for j in range(len(temp)):\n",
    "            if answer_word[j] !='?' and answer_word[j]!=temp[j]:\n",
    "                answer_word[j]='?'\n",
    "print(*answer_word,sep='')"
   ]
  }
 ],
 "metadata": {
  "kernelspec": {
   "display_name": "base",
   "language": "python",
   "name": "python3"
  },
  "language_info": {
   "codemirror_mode": {
    "name": "ipython",
    "version": 3
   },
   "file_extension": ".py",
   "mimetype": "text/x-python",
   "name": "python",
   "nbconvert_exporter": "python",
   "pygments_lexer": "ipython3",
   "version": "3.13.5"
  }
 },
 "nbformat": 4,
 "nbformat_minor": 5
}
